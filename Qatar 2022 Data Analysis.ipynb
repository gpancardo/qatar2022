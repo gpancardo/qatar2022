{
 "cells": [
  {
   "cell_type": "markdown",
   "id": "e5c36017",
   "metadata": {},
   "source": [
    "\n",
    " <img src=\"https://upload.wikimedia.org/wikipedia/commons/thumb/9/96/2022_FIFA_World_Cup_Qatar_%28Wordmark%29.svg/1920px-2022_FIFA_World_Cup_Qatar_%28Wordmark%29.svg.png\" alt=\"Logo del Mundial de Fútbol Varonil Qatar 2022\" width=\"500\" height=\"600\"> \n",
    " <h1 style=\"text-align: center;\">Qatar 2022 Manipulación de Datos</h1>"
   ]
  },
  {
   "cell_type": "markdown",
   "id": "50b729a6",
   "metadata": {},
   "source": [
    "<h2>En el siguiente documento vamos a analizar datos sobre el Mundial de la FIFA de Qatar 2022.</h2>\n",
    "<h3>A pesar de la compleja naturaleza del fútbol, vamos a intentar encontrar una relación linear entre la posesión de balón de un equipo y los goles anotados en juego.\n",
    "</h3>"
   ]
  },
  {
   "cell_type": "markdown",
   "id": "4d3b27f7",
   "metadata": {},
   "source": [
    "<h3>Preparación de los datos</h3>"
   ]
  },
  {
   "cell_type": "markdown",
   "id": "079e58b1",
   "metadata": {},
   "source": [
    "Vamos a leer el archivo .csv con Pandas y convertirlo en una matriz de Numpy."
   ]
  },
  {
   "cell_type": "code",
   "execution_count": 119,
   "id": "dddabaf1",
   "metadata": {
    "scrolled": true
   },
   "outputs": [
    {
     "name": "stdout",
     "output_type": "stream",
     "text": [
      "[['QATAR' 'ECUADOR' 42 ... 72 256 279]\n",
      " ['ENGLAND' 'IRAN' 72 ... 72 139 416]\n",
      " ['SENEGAL' 'NETHERLANDS' 44 ... 73 263 251]\n",
      " ...\n",
      " ['FRANCE' 'MOROCCO' 34 ... 47 328 218]\n",
      " ['CROATIA' 'MOROCCO' 45 ... 72 288 277]\n",
      " ['ARGENTINA' 'FRANCE' 46 ... 104 280 409]]\n"
     ]
    }
   ],
   "source": [
    "import pandas as pd\n",
    "import numpy as np\n",
    "\n",
    "#Abrimos el archivo .csv con los datos como un dataframe de Pandas\n",
    "df = pd.read_csv('~/Desktop/datasets/Fifa_world_cup_matches.csv')\n",
    "\n",
    "#Removemos el signo de porcentaje para poder usar los datos de posesión de balón como datos de tipo int\n",
    "df['possession team1'] = df['possession team1'].str.replace('%','')\n",
    "df['possession team2'] = df['possession team2'].str.replace('%','')\n",
    "\n",
    "#Aquí cohersionamos los datos de las columnas de posesión y goles para evitar problemas de compatibilidad más tarde\n",
    "df['possession team1'] = df['possession team1'].astype(int)\n",
    "df['possession team2'] = df['possession team2'].astype(int)\n",
    "df['number of goals team1'] = df['number of goals team1'].astype(int)\n",
    "df['number of goals team2'] = df['number of goals team2'].astype(int)\n",
    "\n",
    "#Pasamos de un dataframe con Pandas a una matriz con Numpy\n",
    "matriz=np.asmatrix(df)\n",
    "\n",
    "#Imprimimos la matriz para encontrar posibles errores\n",
    "print(matriz)"
   ]
  },
  {
   "cell_type": "markdown",
   "id": "e652c17c",
   "metadata": {},
   "source": [
    "Ahora vamos a conseguirla forma de la matriz para saber las dimensiones de nuestra matriz de trabajo."
   ]
  },
  {
   "cell_type": "code",
   "execution_count": 114,
   "id": "a5e0b6b7",
   "metadata": {},
   "outputs": [
    {
     "name": "stdout",
     "output_type": "stream",
     "text": [
      "(64, 88)\n"
     ]
    }
   ],
   "source": [
    "#Creamos la variable forma para evaluar los resultados del siguiente paso\n",
    "forma=np.shape(matriz)\n",
    "print (forma)"
   ]
  },
  {
   "cell_type": "markdown",
   "id": "4812865c",
   "metadata": {},
   "source": [
    "Ahora vamos a cortar las columnas que utilizaremos (las de posesión de balón y las de gol en tiempo de juego). Luego de cortar vamos a combinarlas en una columna por variable. Al final agregamos los dos vectores en una matriz."
   ]
  },
  {
   "cell_type": "code",
   "execution_count": 117,
   "id": "76dd67a6",
   "metadata": {
    "scrolled": true
   },
   "outputs": [
    {
     "name": "stdout",
     "output_type": "stream",
     "text": [
      "[[42 0]\n",
      " [72 6]\n",
      " [44 0]\n",
      " [51 1]\n",
      " [64 1]\n",
      " [55 0]\n",
      " [54 0]\n",
      " [56 4]\n",
      " [32 0]\n",
      " [65 1]\n",
      " [74 7]\n",
      " [46 1]\n",
      " [43 1]\n",
      " [49 0]\n",
      " [55 3]\n",
      " [53 2]\n",
      " [51 0]\n",
      " [42 1]\n",
      " [48 1]\n",
      " [51 0]\n",
      " [50 0]\n",
      " [30 2]\n",
      " [44 2]\n",
      " [50 2]\n",
      " [48 0]\n",
      " [56 0]\n",
      " [41 4]\n",
      " [56 1]\n",
      " [38 3]\n",
      " [53 2]\n",
      " [51 1]\n",
      " [53 2]\n",
      " [54 2]\n",
      " [51 1]\n",
      " [33 0]\n",
      " [42 0]\n",
      " [24 1]\n",
      " [30 1]\n",
      " [24 0]\n",
      " [29 1]\n",
      " [43 0]\n",
      " [52 1]\n",
      " [14 2]\n",
      " [27 2]\n",
      " [46 0]\n",
      " [34 2]\n",
      " [45 2]\n",
      " [31 1]\n",
      " [33 3]\n",
      " [53 2]\n",
      " [48 3]\n",
      " [54 3]\n",
      " [35 1]\n",
      " [47 4]\n",
      " [22 0]\n",
      " [43 6]\n",
      " [45 1]\n",
      " [45 2]\n",
      " [22 1]\n",
      " [54 1]\n",
      " [34 3]\n",
      " [34 2]\n",
      " [45 2]\n",
      " [46 3]\n",
      " [50 2]\n",
      " [19 2]\n",
      " [45 2]\n",
      " [39 1]\n",
      " [24 2]\n",
      " [33 0]\n",
      " [31 0]\n",
      " [35 1]\n",
      " [57 0]\n",
      " [22 2]\n",
      " [17 0]\n",
      " [43 0]\n",
      " [46 0]\n",
      " [38 0]\n",
      " [35 2]\n",
      " [34 0]\n",
      " [33 2]\n",
      " [48 3]\n",
      " [39 1]\n",
      " [40 0]\n",
      " [31 1]\n",
      " [57 0]\n",
      " [44 1]\n",
      " [36 0]\n",
      " [39 1]\n",
      " [32 2]\n",
      " [46 1]\n",
      " [33 1]\n",
      " [49 3]\n",
      " [32 3]\n",
      " [40 0]\n",
      " [35 0]\n",
      " [38 0]\n",
      " [32 2]\n",
      " [58 3]\n",
      " [45 1]\n",
      " [60 0]\n",
      " [56 0]\n",
      " [67 2]\n",
      " [55 2]\n",
      " [47 0]\n",
      " [36 2]\n",
      " [78 1]\n",
      " [60 4]\n",
      " [39 2]\n",
      " [55 1]\n",
      " [41 3]\n",
      " [56 0]\n",
      " [54 1]\n",
      " [35 1]\n",
      " [42 1]\n",
      " [35 0]\n",
      " [51 1]\n",
      " [44 1]\n",
      " [68 0]\n",
      " [48 1]\n",
      " [45 1]\n",
      " [44 2]\n",
      " [65 0]\n",
      " [36 2]\n",
      " [54 0]\n",
      " [55 0]\n",
      " [45 1]\n",
      " [40 3]]\n",
      "(128, 2)\n"
     ]
    }
   ],
   "source": [
    "#Cortamos las columnas con la posesión de balón y mantenemos la forma que necesitamos para el vector\n",
    "equiposa=matriz[:,2].reshape(-1)\n",
    "equiposb=matriz[:,3].reshape(-1)\n",
    "\n",
    "#Cambiamos el significado de la variable a la transpuesta del vector\n",
    "equiposa=equiposa.transpose()\n",
    "equiposb=equiposb.transpose()\n",
    "\n",
    "#Concatenamos ambos vectores en la misma columna por ser parte de la misma variable\n",
    "equipos=np.concatenate((equiposa,equiposb),axis=0)\n",
    "\n",
    "#Hacemos lo mismo con la variable de goles en partido.\n",
    "golesa=matriz[:,5].reshape(-1)\n",
    "golesb=matriz[:,6].reshape(-1)\n",
    "\n",
    "golesa=golesa.transpose()\n",
    "golesb=golesb.transpose()\n",
    "\n",
    "goles=np.concatenate((golesa,golesb),axis=0)\n",
    "\n",
    "#Agergamos los vectores de posesión y goles a la misma matriz\n",
    "utiles=np.concatenate((equipos,goles), axis=1)\n",
    "\n",
    "#Creamos la variable w para verificar la forma de la matriz\n",
    "w=np.shape(utiles)\n",
    "\n",
    "#Imprimimos para verificar los resultados\n",
    "print(utiles)\n",
    "print(w)\n"
   ]
  },
  {
   "cell_type": "markdown",
   "id": "98a03ad5",
   "metadata": {},
   "source": [
    "Vamos a convertir la matriz de Numpy en un dataframe de Pandas."
   ]
  },
  {
   "cell_type": "code",
   "execution_count": 124,
   "id": "879981a6",
   "metadata": {},
   "outputs": [
    {
     "name": "stdout",
     "output_type": "stream",
     "text": [
      "    Posesión Goles\n",
      "0         42     0\n",
      "1         72     6\n",
      "2         44     0\n",
      "3         51     1\n",
      "4         64     1\n",
      "..       ...   ...\n",
      "123       36     2\n",
      "124       54     0\n",
      "125       55     0\n",
      "126       45     1\n",
      "127       40     3\n",
      "\n",
      "[128 rows x 2 columns]\n"
     ]
    }
   ],
   "source": [
    "#Creamos una lista con los títulos de cada columna\n",
    "titulos=['Posesión',\"Goles\"]\n",
    "\n",
    "#Creamos el dataframe con los datos de la matriz utiles y los títulos de la lista.\n",
    "df=pd.DataFrame(data=utiles, columns=titulos)\n",
    "\n",
    "#Imprimimos el resultado\n",
    "print(df)"
   ]
  },
  {
   "cell_type": "markdown",
   "id": "9384be8e",
   "metadata": {},
   "source": [
    "<h3>Visualización</h3>\n",
    "Usaremos una gráfica de dispersión para tener una primera aproximación a la relación entre las variables.\n"
   ]
  },
  {
   "cell_type": "code",
   "execution_count": 127,
   "id": "76d86f35",
   "metadata": {},
   "outputs": [
    {
     "data": {
      "text/plain": [
       "<AxesSubplot:xlabel='Posesión', ylabel='Goles'>"
      ]
     },
     "execution_count": 127,
     "metadata": {},
     "output_type": "execute_result"
    },
    {
     "data": {
      "image/png": "[encoded data removed]",
      "text/plain": [
       "<Figure size 640x480 with 1 Axes>"
      ]
     },
     "metadata": {},
     "output_type": "display_data"
    }
   ],
   "source": [
    "df.plot(x='Posesión',y='Goles',kind='scatter')"
   ]
  },
  {
   "cell_type": "markdown",
   "id": "0fed4a79",
   "metadata": {},
   "source": [
    "Ya que la relación entre las variables no es evidente vamos a usar el Coeficiente de Correlación Pearson para terminar de descartar la relación linear."
   ]
  },
  {
   "cell_type": "code",
   "execution_count": null,
   "id": "0529cc52",
   "metadata": {},
   "outputs": [],
   "source": []
  }
 ],
 "metadata": {
  "kernelspec": {
   "display_name": "Python 3",
   "language": "python",
   "name": "python3"
  },
  "language_info": {
   "codemirror_mode": {
    "name": "ipython",
    "version": 3
   },
   "file_extension": ".py",
   "mimetype": "text/x-python",
   "name": "python",
   "nbconvert_exporter": "python",
   "pygments_lexer": "ipython3",
   "version": "3.9.13 (tags/v3.9.13:6de2ca5, May 17 2022, 16:36:42) [MSC v.1929 64 bit (AMD64)]"
  },
  "vscode": {
   "interpreter": {
    "hash": "822f778737178fe76a6ff500c230e38a1f3004a1451c350514bba9d63e701910"
   }
  }
 },
 "nbformat": 4,
 "nbformat_minor": 5
}
